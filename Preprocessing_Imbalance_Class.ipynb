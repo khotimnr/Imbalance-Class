{
  "nbformat": 4,
  "nbformat_minor": 0,
  "metadata": {
    "colab": {
      "name": "Preprocessing Imbalance Class",
      "provenance": [],
      "machine_shape": "hm",
      "authorship_tag": "ABX9TyMr7yYrhTMdknzBu5y+NcrV",
      "include_colab_link": true
    },
    "kernelspec": {
      "name": "python3",
      "display_name": "Python 3"
    },
    "language_info": {
      "name": "python"
    },
    "accelerator": "GPU",
    "gpuClass": "standard"
  },
  "cells": [
    {
      "cell_type": "markdown",
      "metadata": {
        "id": "view-in-github",
        "colab_type": "text"
      },
      "source": [
        "<a href=\"https://colab.research.google.com/github/khotimnr/Imbalance-Class/blob/main/Preprocessing_Imbalance_Class.ipynb\" target=\"_parent\"><img src=\"https://colab.research.google.com/assets/colab-badge.svg\" alt=\"Open In Colab\"/></a>"
      ]
    },
    {
      "cell_type": "markdown",
      "source": [
        "# **Imbalance** **Class**"
      ],
      "metadata": {
        "id": "GBMvOkGInf0-"
      }
    },
    {
      "cell_type": "code",
      "execution_count": null,
      "metadata": {
        "id": "DrLCpX6cnZVV"
      },
      "outputs": [],
      "source": [
        "import pandas as pd                  # A fundamental package for linear algebra and multidimensional arrays\n",
        "import numpy as np                   # Data analysis and data manipulating tool\n",
        "import random                        # Library to generate random numbers\n",
        "from collections import Counter      # Collection is a Python module that implements specialized container datatypes providing \n",
        "                                     # alternatives to Python’s general purpose built-in containers, dict, list, set, and tuple.\n",
        "                                     # Counter is a dict subclass for counting hashable objects\n",
        "# Visualization libraries\n",
        "import matplotlib.pyplot as plt\n",
        "import seaborn as sns\n",
        "\n",
        "# To ignore warnings in the notebook\n",
        "import warnings\n",
        "warnings.filterwarnings(\"ignore\")"
      ]
    },
    {
      "cell_type": "code",
      "source": [
        "import pandas as pd  \n",
        "reload_data = pd.read_csv('data_reload_train_new.csv',sep=';')\n",
        "reload_data"
      ],
      "metadata": {
        "colab": {
          "base_uri": "https://localhost:8080/",
          "height": 488
        },
        "id": "MlStpcnAoHIN",
        "outputId": "b252184e-42df-44ec-db1f-2c1602cb6e49"
      },
      "execution_count": null,
      "outputs": [
        {
          "output_type": "execute_result",
          "data": {
            "text/plain": [
              "      available_points  tenure_rgu rld_tot_30d rld_tot_60d rld_tot_90d  \\\n",
              "0                 4925         982           0           0      112000   \n",
              "1                 3335        1307           0       50000       60000   \n",
              "2                  500         871       20000        5000           0   \n",
              "3                11497         663      125000      145000      130000   \n",
              "4                 1200        1307       20000           0           0   \n",
              "...                ...         ...         ...         ...         ...   \n",
              "50174             2775         560      125000      125000       50000   \n",
              "50175             6725        1179      225000      145000    1,00E+05   \n",
              "50176              255        1329           0           0       20000   \n",
              "50177             3725         643       60000       70000           0   \n",
              "50178             1320        1329       55000           0       62000   \n",
              "\n",
              "      reload_p90d denom_30d denom_60d denom_90d curr_balance  ...  rld_30d  \\\n",
              "0          112000         0         0  1,00E+05          175  ...        0   \n",
              "1          110000         0     25000     25000          100  ...        0   \n",
              "2           25000     10000      5000         0            6  ...        1   \n",
              "3        4,00E+05     50000     50000     50000        27850  ...        1   \n",
              "4           20000     20000         0         0            0  ...        1   \n",
              "...           ...       ...       ...       ...          ...  ...      ...   \n",
              "50174    3,00E+05     25000     50000     40000            0  ...        1   \n",
              "50175      470000  1,00E+05     50000  1,00E+05          796  ...        1   \n",
              "50176       20000         0         0     20000            0  ...        0   \n",
              "50177      130000     30000     40000         0           50  ...        1   \n",
              "50178      117000     30000         0     50000            0  ...        1   \n",
              "\n",
              "      rld_60d rld_90d tot_month_rld  active_pack  status  cust_flag  \\\n",
              "0           0       1             1          1.0  ACTIVE   Moderate   \n",
              "1           1       1             2          1.0  ACTIVE   Moderate   \n",
              "2           1       0             2          0.0  ACTIVE   Moderate   \n",
              "3           1       1             3          1.0  ACTIVE    Healthy   \n",
              "4           0       0             1          1.0  ACTIVE   Moderate   \n",
              "...       ...     ...           ...          ...     ...        ...   \n",
              "50174       1       1             3          1.0  ACTIVE    Healthy   \n",
              "50175       1       1             3          1.0  ACTIVE    Healthy   \n",
              "50176       0       1             1          1.0  ACTIVE   Moderate   \n",
              "50177       1       0             2          1.0  ACTIVE   Moderate   \n",
              "50178       0       1             2          NaN     NaN        NaN   \n",
              "\n",
              "      X_kategori_denom30d X_kategori_frek_dan_denom X_kategori_tenure  \n",
              "0                 sedikit          jarang & sedikit              baru  \n",
              "1                 sedikit          jarang & sedikit              baru  \n",
              "2                 sedikit          sering & sedikit              baru  \n",
              "3                  banyak           sering & banyak              lama  \n",
              "4                  banyak           jarang & banyak              baru  \n",
              "...                   ...                       ...               ...  \n",
              "50174              banyak           sering & banyak              lama  \n",
              "50175              banyak           sering & banyak              baru  \n",
              "50176             sedikit          jarang & sedikit              baru  \n",
              "50177              banyak           sering & banyak              lama  \n",
              "50178                 NaN                       NaN               NaN  \n",
              "\n",
              "[50179 rows x 30 columns]"
            ],
            "text/html": [
              "\n",
              "  <div id=\"df-f788bf11-c577-4fd2-abe5-28a01f712f30\">\n",
              "    <div class=\"colab-df-container\">\n",
              "      <div>\n",
              "<style scoped>\n",
              "    .dataframe tbody tr th:only-of-type {\n",
              "        vertical-align: middle;\n",
              "    }\n",
              "\n",
              "    .dataframe tbody tr th {\n",
              "        vertical-align: top;\n",
              "    }\n",
              "\n",
              "    .dataframe thead th {\n",
              "        text-align: right;\n",
              "    }\n",
              "</style>\n",
              "<table border=\"1\" class=\"dataframe\">\n",
              "  <thead>\n",
              "    <tr style=\"text-align: right;\">\n",
              "      <th></th>\n",
              "      <th>available_points</th>\n",
              "      <th>tenure_rgu</th>\n",
              "      <th>rld_tot_30d</th>\n",
              "      <th>rld_tot_60d</th>\n",
              "      <th>rld_tot_90d</th>\n",
              "      <th>reload_p90d</th>\n",
              "      <th>denom_30d</th>\n",
              "      <th>denom_60d</th>\n",
              "      <th>denom_90d</th>\n",
              "      <th>curr_balance</th>\n",
              "      <th>...</th>\n",
              "      <th>rld_30d</th>\n",
              "      <th>rld_60d</th>\n",
              "      <th>rld_90d</th>\n",
              "      <th>tot_month_rld</th>\n",
              "      <th>active_pack</th>\n",
              "      <th>status</th>\n",
              "      <th>cust_flag</th>\n",
              "      <th>X_kategori_denom30d</th>\n",
              "      <th>X_kategori_frek_dan_denom</th>\n",
              "      <th>X_kategori_tenure</th>\n",
              "    </tr>\n",
              "  </thead>\n",
              "  <tbody>\n",
              "    <tr>\n",
              "      <th>0</th>\n",
              "      <td>4925</td>\n",
              "      <td>982</td>\n",
              "      <td>0</td>\n",
              "      <td>0</td>\n",
              "      <td>112000</td>\n",
              "      <td>112000</td>\n",
              "      <td>0</td>\n",
              "      <td>0</td>\n",
              "      <td>1,00E+05</td>\n",
              "      <td>175</td>\n",
              "      <td>...</td>\n",
              "      <td>0</td>\n",
              "      <td>0</td>\n",
              "      <td>1</td>\n",
              "      <td>1</td>\n",
              "      <td>1.0</td>\n",
              "      <td>ACTIVE</td>\n",
              "      <td>Moderate</td>\n",
              "      <td>sedikit</td>\n",
              "      <td>jarang &amp; sedikit</td>\n",
              "      <td>baru</td>\n",
              "    </tr>\n",
              "    <tr>\n",
              "      <th>1</th>\n",
              "      <td>3335</td>\n",
              "      <td>1307</td>\n",
              "      <td>0</td>\n",
              "      <td>50000</td>\n",
              "      <td>60000</td>\n",
              "      <td>110000</td>\n",
              "      <td>0</td>\n",
              "      <td>25000</td>\n",
              "      <td>25000</td>\n",
              "      <td>100</td>\n",
              "      <td>...</td>\n",
              "      <td>0</td>\n",
              "      <td>1</td>\n",
              "      <td>1</td>\n",
              "      <td>2</td>\n",
              "      <td>1.0</td>\n",
              "      <td>ACTIVE</td>\n",
              "      <td>Moderate</td>\n",
              "      <td>sedikit</td>\n",
              "      <td>jarang &amp; sedikit</td>\n",
              "      <td>baru</td>\n",
              "    </tr>\n",
              "    <tr>\n",
              "      <th>2</th>\n",
              "      <td>500</td>\n",
              "      <td>871</td>\n",
              "      <td>20000</td>\n",
              "      <td>5000</td>\n",
              "      <td>0</td>\n",
              "      <td>25000</td>\n",
              "      <td>10000</td>\n",
              "      <td>5000</td>\n",
              "      <td>0</td>\n",
              "      <td>6</td>\n",
              "      <td>...</td>\n",
              "      <td>1</td>\n",
              "      <td>1</td>\n",
              "      <td>0</td>\n",
              "      <td>2</td>\n",
              "      <td>0.0</td>\n",
              "      <td>ACTIVE</td>\n",
              "      <td>Moderate</td>\n",
              "      <td>sedikit</td>\n",
              "      <td>sering &amp; sedikit</td>\n",
              "      <td>baru</td>\n",
              "    </tr>\n",
              "    <tr>\n",
              "      <th>3</th>\n",
              "      <td>11497</td>\n",
              "      <td>663</td>\n",
              "      <td>125000</td>\n",
              "      <td>145000</td>\n",
              "      <td>130000</td>\n",
              "      <td>4,00E+05</td>\n",
              "      <td>50000</td>\n",
              "      <td>50000</td>\n",
              "      <td>50000</td>\n",
              "      <td>27850</td>\n",
              "      <td>...</td>\n",
              "      <td>1</td>\n",
              "      <td>1</td>\n",
              "      <td>1</td>\n",
              "      <td>3</td>\n",
              "      <td>1.0</td>\n",
              "      <td>ACTIVE</td>\n",
              "      <td>Healthy</td>\n",
              "      <td>banyak</td>\n",
              "      <td>sering &amp; banyak</td>\n",
              "      <td>lama</td>\n",
              "    </tr>\n",
              "    <tr>\n",
              "      <th>4</th>\n",
              "      <td>1200</td>\n",
              "      <td>1307</td>\n",
              "      <td>20000</td>\n",
              "      <td>0</td>\n",
              "      <td>0</td>\n",
              "      <td>20000</td>\n",
              "      <td>20000</td>\n",
              "      <td>0</td>\n",
              "      <td>0</td>\n",
              "      <td>0</td>\n",
              "      <td>...</td>\n",
              "      <td>1</td>\n",
              "      <td>0</td>\n",
              "      <td>0</td>\n",
              "      <td>1</td>\n",
              "      <td>1.0</td>\n",
              "      <td>ACTIVE</td>\n",
              "      <td>Moderate</td>\n",
              "      <td>banyak</td>\n",
              "      <td>jarang &amp; banyak</td>\n",
              "      <td>baru</td>\n",
              "    </tr>\n",
              "    <tr>\n",
              "      <th>...</th>\n",
              "      <td>...</td>\n",
              "      <td>...</td>\n",
              "      <td>...</td>\n",
              "      <td>...</td>\n",
              "      <td>...</td>\n",
              "      <td>...</td>\n",
              "      <td>...</td>\n",
              "      <td>...</td>\n",
              "      <td>...</td>\n",
              "      <td>...</td>\n",
              "      <td>...</td>\n",
              "      <td>...</td>\n",
              "      <td>...</td>\n",
              "      <td>...</td>\n",
              "      <td>...</td>\n",
              "      <td>...</td>\n",
              "      <td>...</td>\n",
              "      <td>...</td>\n",
              "      <td>...</td>\n",
              "      <td>...</td>\n",
              "      <td>...</td>\n",
              "    </tr>\n",
              "    <tr>\n",
              "      <th>50174</th>\n",
              "      <td>2775</td>\n",
              "      <td>560</td>\n",
              "      <td>125000</td>\n",
              "      <td>125000</td>\n",
              "      <td>50000</td>\n",
              "      <td>3,00E+05</td>\n",
              "      <td>25000</td>\n",
              "      <td>50000</td>\n",
              "      <td>40000</td>\n",
              "      <td>0</td>\n",
              "      <td>...</td>\n",
              "      <td>1</td>\n",
              "      <td>1</td>\n",
              "      <td>1</td>\n",
              "      <td>3</td>\n",
              "      <td>1.0</td>\n",
              "      <td>ACTIVE</td>\n",
              "      <td>Healthy</td>\n",
              "      <td>banyak</td>\n",
              "      <td>sering &amp; banyak</td>\n",
              "      <td>lama</td>\n",
              "    </tr>\n",
              "    <tr>\n",
              "      <th>50175</th>\n",
              "      <td>6725</td>\n",
              "      <td>1179</td>\n",
              "      <td>225000</td>\n",
              "      <td>145000</td>\n",
              "      <td>1,00E+05</td>\n",
              "      <td>470000</td>\n",
              "      <td>1,00E+05</td>\n",
              "      <td>50000</td>\n",
              "      <td>1,00E+05</td>\n",
              "      <td>796</td>\n",
              "      <td>...</td>\n",
              "      <td>1</td>\n",
              "      <td>1</td>\n",
              "      <td>1</td>\n",
              "      <td>3</td>\n",
              "      <td>1.0</td>\n",
              "      <td>ACTIVE</td>\n",
              "      <td>Healthy</td>\n",
              "      <td>banyak</td>\n",
              "      <td>sering &amp; banyak</td>\n",
              "      <td>baru</td>\n",
              "    </tr>\n",
              "    <tr>\n",
              "      <th>50176</th>\n",
              "      <td>255</td>\n",
              "      <td>1329</td>\n",
              "      <td>0</td>\n",
              "      <td>0</td>\n",
              "      <td>20000</td>\n",
              "      <td>20000</td>\n",
              "      <td>0</td>\n",
              "      <td>0</td>\n",
              "      <td>20000</td>\n",
              "      <td>0</td>\n",
              "      <td>...</td>\n",
              "      <td>0</td>\n",
              "      <td>0</td>\n",
              "      <td>1</td>\n",
              "      <td>1</td>\n",
              "      <td>1.0</td>\n",
              "      <td>ACTIVE</td>\n",
              "      <td>Moderate</td>\n",
              "      <td>sedikit</td>\n",
              "      <td>jarang &amp; sedikit</td>\n",
              "      <td>baru</td>\n",
              "    </tr>\n",
              "    <tr>\n",
              "      <th>50177</th>\n",
              "      <td>3725</td>\n",
              "      <td>643</td>\n",
              "      <td>60000</td>\n",
              "      <td>70000</td>\n",
              "      <td>0</td>\n",
              "      <td>130000</td>\n",
              "      <td>30000</td>\n",
              "      <td>40000</td>\n",
              "      <td>0</td>\n",
              "      <td>50</td>\n",
              "      <td>...</td>\n",
              "      <td>1</td>\n",
              "      <td>1</td>\n",
              "      <td>0</td>\n",
              "      <td>2</td>\n",
              "      <td>1.0</td>\n",
              "      <td>ACTIVE</td>\n",
              "      <td>Moderate</td>\n",
              "      <td>banyak</td>\n",
              "      <td>sering &amp; banyak</td>\n",
              "      <td>lama</td>\n",
              "    </tr>\n",
              "    <tr>\n",
              "      <th>50178</th>\n",
              "      <td>1320</td>\n",
              "      <td>1329</td>\n",
              "      <td>55000</td>\n",
              "      <td>0</td>\n",
              "      <td>62000</td>\n",
              "      <td>117000</td>\n",
              "      <td>30000</td>\n",
              "      <td>0</td>\n",
              "      <td>50000</td>\n",
              "      <td>0</td>\n",
              "      <td>...</td>\n",
              "      <td>1</td>\n",
              "      <td>0</td>\n",
              "      <td>1</td>\n",
              "      <td>2</td>\n",
              "      <td>NaN</td>\n",
              "      <td>NaN</td>\n",
              "      <td>NaN</td>\n",
              "      <td>NaN</td>\n",
              "      <td>NaN</td>\n",
              "      <td>NaN</td>\n",
              "    </tr>\n",
              "  </tbody>\n",
              "</table>\n",
              "<p>50179 rows × 30 columns</p>\n",
              "</div>\n",
              "      <button class=\"colab-df-convert\" onclick=\"convertToInteractive('df-f788bf11-c577-4fd2-abe5-28a01f712f30')\"\n",
              "              title=\"Convert this dataframe to an interactive table.\"\n",
              "              style=\"display:none;\">\n",
              "        \n",
              "  <svg xmlns=\"http://www.w3.org/2000/svg\" height=\"24px\"viewBox=\"0 0 24 24\"\n",
              "       width=\"24px\">\n",
              "    <path d=\"M0 0h24v24H0V0z\" fill=\"none\"/>\n",
              "    <path d=\"M18.56 5.44l.94 2.06.94-2.06 2.06-.94-2.06-.94-.94-2.06-.94 2.06-2.06.94zm-11 1L8.5 8.5l.94-2.06 2.06-.94-2.06-.94L8.5 2.5l-.94 2.06-2.06.94zm10 10l.94 2.06.94-2.06 2.06-.94-2.06-.94-.94-2.06-.94 2.06-2.06.94z\"/><path d=\"M17.41 7.96l-1.37-1.37c-.4-.4-.92-.59-1.43-.59-.52 0-1.04.2-1.43.59L10.3 9.45l-7.72 7.72c-.78.78-.78 2.05 0 2.83L4 21.41c.39.39.9.59 1.41.59.51 0 1.02-.2 1.41-.59l7.78-7.78 2.81-2.81c.8-.78.8-2.07 0-2.86zM5.41 20L4 18.59l7.72-7.72 1.47 1.35L5.41 20z\"/>\n",
              "  </svg>\n",
              "      </button>\n",
              "      \n",
              "  <style>\n",
              "    .colab-df-container {\n",
              "      display:flex;\n",
              "      flex-wrap:wrap;\n",
              "      gap: 12px;\n",
              "    }\n",
              "\n",
              "    .colab-df-convert {\n",
              "      background-color: #E8F0FE;\n",
              "      border: none;\n",
              "      border-radius: 50%;\n",
              "      cursor: pointer;\n",
              "      display: none;\n",
              "      fill: #1967D2;\n",
              "      height: 32px;\n",
              "      padding: 0 0 0 0;\n",
              "      width: 32px;\n",
              "    }\n",
              "\n",
              "    .colab-df-convert:hover {\n",
              "      background-color: #E2EBFA;\n",
              "      box-shadow: 0px 1px 2px rgba(60, 64, 67, 0.3), 0px 1px 3px 1px rgba(60, 64, 67, 0.15);\n",
              "      fill: #174EA6;\n",
              "    }\n",
              "\n",
              "    [theme=dark] .colab-df-convert {\n",
              "      background-color: #3B4455;\n",
              "      fill: #D2E3FC;\n",
              "    }\n",
              "\n",
              "    [theme=dark] .colab-df-convert:hover {\n",
              "      background-color: #434B5C;\n",
              "      box-shadow: 0px 1px 3px 1px rgba(0, 0, 0, 0.15);\n",
              "      filter: drop-shadow(0px 1px 2px rgba(0, 0, 0, 0.3));\n",
              "      fill: #FFFFFF;\n",
              "    }\n",
              "  </style>\n",
              "\n",
              "      <script>\n",
              "        const buttonEl =\n",
              "          document.querySelector('#df-f788bf11-c577-4fd2-abe5-28a01f712f30 button.colab-df-convert');\n",
              "        buttonEl.style.display =\n",
              "          google.colab.kernel.accessAllowed ? 'block' : 'none';\n",
              "\n",
              "        async function convertToInteractive(key) {\n",
              "          const element = document.querySelector('#df-f788bf11-c577-4fd2-abe5-28a01f712f30');\n",
              "          const dataTable =\n",
              "            await google.colab.kernel.invokeFunction('convertToInteractive',\n",
              "                                                     [key], {});\n",
              "          if (!dataTable) return;\n",
              "\n",
              "          const docLinkHtml = 'Like what you see? Visit the ' +\n",
              "            '<a target=\"_blank\" href=https://colab.research.google.com/notebooks/data_table.ipynb>data table notebook</a>'\n",
              "            + ' to learn more about interactive tables.';\n",
              "          element.innerHTML = '';\n",
              "          dataTable['output_type'] = 'display_data';\n",
              "          await google.colab.output.renderOutput(dataTable, element);\n",
              "          const docLink = document.createElement('div');\n",
              "          docLink.innerHTML = docLinkHtml;\n",
              "          element.appendChild(docLink);\n",
              "        }\n",
              "      </script>\n",
              "    </div>\n",
              "  </div>\n",
              "  "
            ]
          },
          "metadata": {},
          "execution_count": 5
        }
      ]
    },
    {
      "cell_type": "code",
      "source": [
        "reload_data.info()"
      ],
      "metadata": {
        "colab": {
          "base_uri": "https://localhost:8080/"
        },
        "id": "i5o_7XNtp9W4",
        "outputId": "a2878eb3-b00b-40d7-fa13-352bee4ca424"
      },
      "execution_count": null,
      "outputs": [
        {
          "output_type": "stream",
          "name": "stdout",
          "text": [
            "<class 'pandas.core.frame.DataFrame'>\n",
            "RangeIndex: 50179 entries, 0 to 50178\n",
            "Data columns (total 30 columns):\n",
            " #   Column                     Non-Null Count  Dtype  \n",
            "---  ------                     --------------  -----  \n",
            " 0   available_points           50179 non-null  object \n",
            " 1   tenure_rgu                 50179 non-null  int64  \n",
            " 2   rld_tot_30d                50179 non-null  object \n",
            " 3   rld_tot_60d                50179 non-null  object \n",
            " 4   rld_tot_90d                50179 non-null  object \n",
            " 5   reload_p90d                50179 non-null  object \n",
            " 6   denom_30d                  50179 non-null  object \n",
            " 7   denom_60d                  50179 non-null  object \n",
            " 8   denom_90d                  50179 non-null  object \n",
            " 9   curr_balance               50179 non-null  object \n",
            " 10  n_days                     50179 non-null  int64  \n",
            " 11  arpu_rld                   50179 non-null  object \n",
            " 12  X_ratio_curr_per_arpu      50179 non-null  object \n",
            " 13  X_frek_rld_per_month       50179 non-null  object \n",
            " 14  rld_nm                     50179 non-null  int64  \n",
            " 15  current_tier               50179 non-null  object \n",
            " 16  vlr_attached_p3d           50179 non-null  int64  \n",
            " 17  flag_arpu_90d              50179 non-null  object \n",
            " 18  flag_arpu_last_30d         50179 non-null  object \n",
            " 19  rgu_flag                   50179 non-null  object \n",
            " 20  rld_30d                    50179 non-null  int64  \n",
            " 21  rld_60d                    50179 non-null  int64  \n",
            " 22  rld_90d                    50179 non-null  int64  \n",
            " 23  tot_month_rld              50179 non-null  int64  \n",
            " 24  active_pack                50178 non-null  float64\n",
            " 25  status                     50178 non-null  object \n",
            " 26  cust_flag                  50178 non-null  object \n",
            " 27  X_kategori_denom30d        50178 non-null  object \n",
            " 28  X_kategori_frek_dan_denom  50178 non-null  object \n",
            " 29  X_kategori_tenure          50178 non-null  object \n",
            "dtypes: float64(1), int64(8), object(21)\n",
            "memory usage: 11.5+ MB\n"
          ]
        }
      ]
    },
    {
      "cell_type": "code",
      "source": [
        "reload_data.rld_nm.value_counts()  "
      ],
      "metadata": {
        "colab": {
          "base_uri": "https://localhost:8080/"
        },
        "id": "l85IZ1GdqOq7",
        "outputId": "9cbb03fa-5b5f-4e80-bbae-a65721d4f22b"
      },
      "execution_count": null,
      "outputs": [
        {
          "output_type": "execute_result",
          "data": {
            "text/plain": [
              "0    32510\n",
              "1    17669\n",
              "Name: rld_nm, dtype: int64"
            ]
          },
          "metadata": {},
          "execution_count": 7
        }
      ]
    },
    {
      "cell_type": "code",
      "source": [
        "reload_data.rld_nm.value_counts() / len(fraud_data) * 10"
      ],
      "metadata": {
        "colab": {
          "base_uri": "https://localhost:8080/"
        },
        "id": "_s7sSk8OqeO3",
        "outputId": "6e7963b1-f7df-46de-ac1f-fda1292abead"
      },
      "execution_count": null,
      "outputs": [
        {
          "output_type": "execute_result",
          "data": {
            "text/plain": [
              "0    6.478806\n",
              "1    3.521194\n",
              "Name: rld_nm, dtype: float64"
            ]
          },
          "metadata": {},
          "execution_count": 8
        }
      ]
    },
    {
      "cell_type": "code",
      "source": [
        "sns.countplot(reload_data.rld_nm)"
      ],
      "metadata": {
        "colab": {
          "base_uri": "https://localhost:8080/",
          "height": 298
        },
        "id": "-UmYzjTuqvR7",
        "outputId": "5eb1393a-494a-47df-b6f8-2b76e669ddf8"
      },
      "execution_count": null,
      "outputs": [
        {
          "output_type": "execute_result",
          "data": {
            "text/plain": [
              "<matplotlib.axes._subplots.AxesSubplot at 0x7fd9b7a3f250>"
            ]
          },
          "metadata": {},
          "execution_count": 9
        },
        {
          "output_type": "display_data",
          "data": {
            "text/plain": [
              "<Figure size 432x288 with 1 Axes>"
            ],
            "image/png": "[encoded data removed]"
          },
          "metadata": {
            "needs_background": "light"
          }
        }
      ]
    },
    {
      "cell_type": "markdown",
      "source": [
        "Missing Value"
      ],
      "metadata": {
        "id": "50CQC9TirDLv"
      }
    },
    {
      "cell_type": "code",
      "source": [
        "reload_data.isnull().sum() / len(reload_data) * 100 "
      ],
      "metadata": {
        "colab": {
          "base_uri": "https://localhost:8080/"
        },
        "id": "WnIkiT6jrGF6",
        "outputId": "54dfafe9-f298-4bb4-a80d-03510f5d8ad0"
      },
      "execution_count": null,
      "outputs": [
        {
          "output_type": "execute_result",
          "data": {
            "text/plain": [
              "available_points             0.000000\n",
              "tenure_rgu                   0.000000\n",
              "rld_tot_30d                  0.000000\n",
              "rld_tot_60d                  0.000000\n",
              "rld_tot_90d                  0.000000\n",
              "reload_p90d                  0.000000\n",
              "denom_30d                    0.000000\n",
              "denom_60d                    0.000000\n",
              "denom_90d                    0.000000\n",
              "curr_balance                 0.000000\n",
              "n_days                       0.000000\n",
              "arpu_rld                     0.000000\n",
              "X_ratio_curr_per_arpu        0.000000\n",
              "X_frek_rld_per_month         0.000000\n",
              "rld_nm                       0.000000\n",
              "current_tier                 0.000000\n",
              "vlr_attached_p3d             0.000000\n",
              "flag_arpu_90d                0.000000\n",
              "flag_arpu_last_30d           0.000000\n",
              "rgu_flag                     0.000000\n",
              "rld_30d                      0.000000\n",
              "rld_60d                      0.000000\n",
              "rld_90d                      0.000000\n",
              "tot_month_rld                0.000000\n",
              "active_pack                  0.001993\n",
              "status                       0.001993\n",
              "cust_flag                    0.001993\n",
              "X_kategori_denom30d          0.001993\n",
              "X_kategori_frek_dan_denom    0.001993\n",
              "X_kategori_tenure            0.001993\n",
              "dtype: float64"
            ]
          },
          "metadata": {},
          "execution_count": 10
        }
      ]
    },
    {
      "cell_type": "code",
      "source": [
        "cat_cols = reload_data.select_dtypes(include = 'object').columns    # getting all the categorical columns\n",
        "\n",
        "reload_data[cat_cols] = reload_data[cat_cols].fillna(reload_data[cat_cols].mode().iloc[0])  # fills the missing values with maximum occuring element in the column\n"
      ],
      "metadata": {
        "id": "h7-n7uA2rL9H"
      },
      "execution_count": null,
      "outputs": []
    },
    {
      "cell_type": "code",
      "source": [
        "num_cols = reload_data.select_dtypes(include=np.number).columns      # getting all the numerical columns\n",
        "\n",
        "reload_data[num_cols] = reload_data[num_cols].fillna(reload_data[num_cols].mean())   # fills the missing values with mean"
      ],
      "metadata": {
        "id": "T84E1Kf1r9hu"
      },
      "execution_count": null,
      "outputs": []
    },
    {
      "cell_type": "code",
      "source": [
        "reload_data.isnull().sum() / len(reload_data) * 100"
      ],
      "metadata": {
        "colab": {
          "base_uri": "https://localhost:8080/"
        },
        "id": "CYiyOxwjrqGI",
        "outputId": "ce4ab6cc-94d7-4702-ee7c-9aef85b96c80"
      },
      "execution_count": null,
      "outputs": [
        {
          "output_type": "execute_result",
          "data": {
            "text/plain": [
              "available_points             0.0\n",
              "tenure_rgu                   0.0\n",
              "rld_tot_30d                  0.0\n",
              "rld_tot_60d                  0.0\n",
              "rld_tot_90d                  0.0\n",
              "reload_p90d                  0.0\n",
              "denom_30d                    0.0\n",
              "denom_60d                    0.0\n",
              "denom_90d                    0.0\n",
              "curr_balance                 0.0\n",
              "n_days                       0.0\n",
              "arpu_rld                     0.0\n",
              "X_ratio_curr_per_arpu        0.0\n",
              "X_frek_rld_per_month         0.0\n",
              "rld_nm                       0.0\n",
              "current_tier                 0.0\n",
              "vlr_attached_p3d             0.0\n",
              "flag_arpu_90d                0.0\n",
              "flag_arpu_last_30d           0.0\n",
              "rgu_flag                     0.0\n",
              "rld_30d                      0.0\n",
              "rld_60d                      0.0\n",
              "rld_90d                      0.0\n",
              "tot_month_rld                0.0\n",
              "active_pack                  0.0\n",
              "status                       0.0\n",
              "cust_flag                    0.0\n",
              "X_kategori_denom30d          0.0\n",
              "X_kategori_frek_dan_denom    0.0\n",
              "X_kategori_tenure            0.0\n",
              "dtype: float64"
            ]
          },
          "metadata": {},
          "execution_count": 13
        }
      ]
    },
    {
      "cell_type": "markdown",
      "source": [
        "Creating dummies for categorical columns"
      ],
      "metadata": {
        "id": "fUtH93FesH9Y"
      }
    },
    {
      "cell_type": "code",
      "source": [
        "reload_data = pd.get_dummies(reload_data, columns=cat_cols)    # earlier we have collected all the categorical columns in cat_cols"
      ],
      "metadata": {
        "id": "xkTdBPwHryzD"
      },
      "execution_count": null,
      "outputs": []
    },
    {
      "cell_type": "code",
      "source": [
        "reload_data.head()"
      ],
      "metadata": {
        "colab": {
          "base_uri": "https://localhost:8080/",
          "height": 317
        },
        "id": "5ZPyG0VBsHUB",
        "outputId": "84789be3-279f-401d-d4d3-eec72873a82d"
      },
      "execution_count": null,
      "outputs": [
        {
          "output_type": "execute_result",
          "data": {
            "text/plain": [
              "   tenure_rgu  n_days  rld_nm  vlr_attached_p3d  rld_30d  rld_60d  rld_90d  \\\n",
              "0         982     299       0                 1        0        0        1   \n",
              "1        1307     323       1                 1        0        1        1   \n",
              "2         871      88       1                 1        1        1        0   \n",
              "3         663     360       1                 1        1        1        1   \n",
              "4        1307      50       1                 1        1        0        0   \n",
              "\n",
              "   tot_month_rld  active_pack  available_points_0  ...  cust_flag_Healthy  \\\n",
              "0              1          1.0                   0  ...                  0   \n",
              "1              2          1.0                   0  ...                  0   \n",
              "2              2          0.0                   0  ...                  0   \n",
              "3              3          1.0                   0  ...                  1   \n",
              "4              1          1.0                   0  ...                  0   \n",
              "\n",
              "   cust_flag_Moderate  X_kategori_denom30d_banyak  \\\n",
              "0                   1                           0   \n",
              "1                   1                           0   \n",
              "2                   1                           0   \n",
              "3                   0                           1   \n",
              "4                   1                           1   \n",
              "\n",
              "   X_kategori_denom30d_sedikit  X_kategori_frek_dan_denom_jarang & banyak  \\\n",
              "0                            1                                          0   \n",
              "1                            1                                          0   \n",
              "2                            1                                          0   \n",
              "3                            0                                          0   \n",
              "4                            0                                          1   \n",
              "\n",
              "   X_kategori_frek_dan_denom_jarang & sedikit  \\\n",
              "0                                           1   \n",
              "1                                           1   \n",
              "2                                           0   \n",
              "3                                           0   \n",
              "4                                           0   \n",
              "\n",
              "   X_kategori_frek_dan_denom_sering & banyak  \\\n",
              "0                                          0   \n",
              "1                                          0   \n",
              "2                                          0   \n",
              "3                                          1   \n",
              "4                                          0   \n",
              "\n",
              "   X_kategori_frek_dan_denom_sering & sedikit  X_kategori_tenure_baru  \\\n",
              "0                                           0                       1   \n",
              "1                                           0                       1   \n",
              "2                                           1                       1   \n",
              "3                                           0                       0   \n",
              "4                                           0                       1   \n",
              "\n",
              "   X_kategori_tenure_lama  \n",
              "0                       0  \n",
              "1                       0  \n",
              "2                       0  \n",
              "3                       1  \n",
              "4                       0  \n",
              "\n",
              "[5 rows x 37920 columns]"
            ],
            "text/html": [
              "\n",
              "  <div id=\"df-8f618a34-73b6-4e72-b9e5-253117f63284\">\n",
              "    <div class=\"colab-df-container\">\n",
              "      <div>\n",
              "<style scoped>\n",
              "    .dataframe tbody tr th:only-of-type {\n",
              "        vertical-align: middle;\n",
              "    }\n",
              "\n",
              "    .dataframe tbody tr th {\n",
              "        vertical-align: top;\n",
              "    }\n",
              "\n",
              "    .dataframe thead th {\n",
              "        text-align: right;\n",
              "    }\n",
              "</style>\n",
              "<table border=\"1\" class=\"dataframe\">\n",
              "  <thead>\n",
              "    <tr style=\"text-align: right;\">\n",
              "      <th></th>\n",
              "      <th>tenure_rgu</th>\n",
              "      <th>n_days</th>\n",
              "      <th>rld_nm</th>\n",
              "      <th>vlr_attached_p3d</th>\n",
              "      <th>rld_30d</th>\n",
              "      <th>rld_60d</th>\n",
              "      <th>rld_90d</th>\n",
              "      <th>tot_month_rld</th>\n",
              "      <th>active_pack</th>\n",
              "      <th>available_points_0</th>\n",
              "      <th>...</th>\n",
              "      <th>cust_flag_Healthy</th>\n",
              "      <th>cust_flag_Moderate</th>\n",
              "      <th>X_kategori_denom30d_banyak</th>\n",
              "      <th>X_kategori_denom30d_sedikit</th>\n",
              "      <th>X_kategori_frek_dan_denom_jarang &amp; banyak</th>\n",
              "      <th>X_kategori_frek_dan_denom_jarang &amp; sedikit</th>\n",
              "      <th>X_kategori_frek_dan_denom_sering &amp; banyak</th>\n",
              "      <th>X_kategori_frek_dan_denom_sering &amp; sedikit</th>\n",
              "      <th>X_kategori_tenure_baru</th>\n",
              "      <th>X_kategori_tenure_lama</th>\n",
              "    </tr>\n",
              "  </thead>\n",
              "  <tbody>\n",
              "    <tr>\n",
              "      <th>0</th>\n",
              "      <td>982</td>\n",
              "      <td>299</td>\n",
              "      <td>0</td>\n",
              "      <td>1</td>\n",
              "      <td>0</td>\n",
              "      <td>0</td>\n",
              "      <td>1</td>\n",
              "      <td>1</td>\n",
              "      <td>1.0</td>\n",
              "      <td>0</td>\n",
              "      <td>...</td>\n",
              "      <td>0</td>\n",
              "      <td>1</td>\n",
              "      <td>0</td>\n",
              "      <td>1</td>\n",
              "      <td>0</td>\n",
              "      <td>1</td>\n",
              "      <td>0</td>\n",
              "      <td>0</td>\n",
              "      <td>1</td>\n",
              "      <td>0</td>\n",
              "    </tr>\n",
              "    <tr>\n",
              "      <th>1</th>\n",
              "      <td>1307</td>\n",
              "      <td>323</td>\n",
              "      <td>1</td>\n",
              "      <td>1</td>\n",
              "      <td>0</td>\n",
              "      <td>1</td>\n",
              "      <td>1</td>\n",
              "      <td>2</td>\n",
              "      <td>1.0</td>\n",
              "      <td>0</td>\n",
              "      <td>...</td>\n",
              "      <td>0</td>\n",
              "      <td>1</td>\n",
              "      <td>0</td>\n",
              "      <td>1</td>\n",
              "      <td>0</td>\n",
              "      <td>1</td>\n",
              "      <td>0</td>\n",
              "      <td>0</td>\n",
              "      <td>1</td>\n",
              "      <td>0</td>\n",
              "    </tr>\n",
              "    <tr>\n",
              "      <th>2</th>\n",
              "      <td>871</td>\n",
              "      <td>88</td>\n",
              "      <td>1</td>\n",
              "      <td>1</td>\n",
              "      <td>1</td>\n",
              "      <td>1</td>\n",
              "      <td>0</td>\n",
              "      <td>2</td>\n",
              "      <td>0.0</td>\n",
              "      <td>0</td>\n",
              "      <td>...</td>\n",
              "      <td>0</td>\n",
              "      <td>1</td>\n",
              "      <td>0</td>\n",
              "      <td>1</td>\n",
              "      <td>0</td>\n",
              "      <td>0</td>\n",
              "      <td>0</td>\n",
              "      <td>1</td>\n",
              "      <td>1</td>\n",
              "      <td>0</td>\n",
              "    </tr>\n",
              "    <tr>\n",
              "      <th>3</th>\n",
              "      <td>663</td>\n",
              "      <td>360</td>\n",
              "      <td>1</td>\n",
              "      <td>1</td>\n",
              "      <td>1</td>\n",
              "      <td>1</td>\n",
              "      <td>1</td>\n",
              "      <td>3</td>\n",
              "      <td>1.0</td>\n",
              "      <td>0</td>\n",
              "      <td>...</td>\n",
              "      <td>1</td>\n",
              "      <td>0</td>\n",
              "      <td>1</td>\n",
              "      <td>0</td>\n",
              "      <td>0</td>\n",
              "      <td>0</td>\n",
              "      <td>1</td>\n",
              "      <td>0</td>\n",
              "      <td>0</td>\n",
              "      <td>1</td>\n",
              "    </tr>\n",
              "    <tr>\n",
              "      <th>4</th>\n",
              "      <td>1307</td>\n",
              "      <td>50</td>\n",
              "      <td>1</td>\n",
              "      <td>1</td>\n",
              "      <td>1</td>\n",
              "      <td>0</td>\n",
              "      <td>0</td>\n",
              "      <td>1</td>\n",
              "      <td>1.0</td>\n",
              "      <td>0</td>\n",
              "      <td>...</td>\n",
              "      <td>0</td>\n",
              "      <td>1</td>\n",
              "      <td>1</td>\n",
              "      <td>0</td>\n",
              "      <td>1</td>\n",
              "      <td>0</td>\n",
              "      <td>0</td>\n",
              "      <td>0</td>\n",
              "      <td>1</td>\n",
              "      <td>0</td>\n",
              "    </tr>\n",
              "  </tbody>\n",
              "</table>\n",
              "<p>5 rows × 37920 columns</p>\n",
              "</div>\n",
              "      <button class=\"colab-df-convert\" onclick=\"convertToInteractive('df-8f618a34-73b6-4e72-b9e5-253117f63284')\"\n",
              "              title=\"Convert this dataframe to an interactive table.\"\n",
              "              style=\"display:none;\">\n",
              "        \n",
              "  <svg xmlns=\"http://www.w3.org/2000/svg\" height=\"24px\"viewBox=\"0 0 24 24\"\n",
              "       width=\"24px\">\n",
              "    <path d=\"M0 0h24v24H0V0z\" fill=\"none\"/>\n",
              "    <path d=\"M18.56 5.44l.94 2.06.94-2.06 2.06-.94-2.06-.94-.94-2.06-.94 2.06-2.06.94zm-11 1L8.5 8.5l.94-2.06 2.06-.94-2.06-.94L8.5 2.5l-.94 2.06-2.06.94zm10 10l.94 2.06.94-2.06 2.06-.94-2.06-.94-.94-2.06-.94 2.06-2.06.94z\"/><path d=\"M17.41 7.96l-1.37-1.37c-.4-.4-.92-.59-1.43-.59-.52 0-1.04.2-1.43.59L10.3 9.45l-7.72 7.72c-.78.78-.78 2.05 0 2.83L4 21.41c.39.39.9.59 1.41.59.51 0 1.02-.2 1.41-.59l7.78-7.78 2.81-2.81c.8-.78.8-2.07 0-2.86zM5.41 20L4 18.59l7.72-7.72 1.47 1.35L5.41 20z\"/>\n",
              "  </svg>\n",
              "      </button>\n",
              "      \n",
              "  <style>\n",
              "    .colab-df-container {\n",
              "      display:flex;\n",
              "      flex-wrap:wrap;\n",
              "      gap: 12px;\n",
              "    }\n",
              "\n",
              "    .colab-df-convert {\n",
              "      background-color: #E8F0FE;\n",
              "      border: none;\n",
              "      border-radius: 50%;\n",
              "      cursor: pointer;\n",
              "      display: none;\n",
              "      fill: #1967D2;\n",
              "      height: 32px;\n",
              "      padding: 0 0 0 0;\n",
              "      width: 32px;\n",
              "    }\n",
              "\n",
              "    .colab-df-convert:hover {\n",
              "      background-color: #E2EBFA;\n",
              "      box-shadow: 0px 1px 2px rgba(60, 64, 67, 0.3), 0px 1px 3px 1px rgba(60, 64, 67, 0.15);\n",
              "      fill: #174EA6;\n",
              "    }\n",
              "\n",
              "    [theme=dark] .colab-df-convert {\n",
              "      background-color: #3B4455;\n",
              "      fill: #D2E3FC;\n",
              "    }\n",
              "\n",
              "    [theme=dark] .colab-df-convert:hover {\n",
              "      background-color: #434B5C;\n",
              "      box-shadow: 0px 1px 3px 1px rgba(0, 0, 0, 0.15);\n",
              "      filter: drop-shadow(0px 1px 2px rgba(0, 0, 0, 0.3));\n",
              "      fill: #FFFFFF;\n",
              "    }\n",
              "  </style>\n",
              "\n",
              "      <script>\n",
              "        const buttonEl =\n",
              "          document.querySelector('#df-8f618a34-73b6-4e72-b9e5-253117f63284 button.colab-df-convert');\n",
              "        buttonEl.style.display =\n",
              "          google.colab.kernel.accessAllowed ? 'block' : 'none';\n",
              "\n",
              "        async function convertToInteractive(key) {\n",
              "          const element = document.querySelector('#df-8f618a34-73b6-4e72-b9e5-253117f63284');\n",
              "          const dataTable =\n",
              "            await google.colab.kernel.invokeFunction('convertToInteractive',\n",
              "                                                     [key], {});\n",
              "          if (!dataTable) return;\n",
              "\n",
              "          const docLinkHtml = 'Like what you see? Visit the ' +\n",
              "            '<a target=\"_blank\" href=https://colab.research.google.com/notebooks/data_table.ipynb>data table notebook</a>'\n",
              "            + ' to learn more about interactive tables.';\n",
              "          element.innerHTML = '';\n",
              "          dataTable['output_type'] = 'display_data';\n",
              "          await google.colab.output.renderOutput(dataTable, element);\n",
              "          const docLink = document.createElement('div');\n",
              "          docLink.innerHTML = docLinkHtml;\n",
              "          element.appendChild(docLink);\n",
              "        }\n",
              "      </script>\n",
              "    </div>\n",
              "  </div>\n",
              "  "
            ]
          },
          "metadata": {},
          "execution_count": 15
        }
      ]
    },
    {
      "cell_type": "code",
      "source": [
        "# Separate input features and output feature\n",
        "X = reload_data.drop(columns = ['rld_nm'])       # input features\n",
        "Y = reload_data.rld_nm     # output feature\n",
        "Y.value_counts()  "
      ],
      "metadata": {
        "colab": {
          "base_uri": "https://localhost:8080/"
        },
        "id": "d3VMkdwvsw_f",
        "outputId": "424cf495-120a-45b6-d7d3-25aaaa9be05d"
      },
      "execution_count": null,
      "outputs": [
        {
          "output_type": "execute_result",
          "data": {
            "text/plain": [
              "0    32510\n",
              "1    17669\n",
              "Name: rld_nm, dtype: int64"
            ]
          },
          "metadata": {},
          "execution_count": 16
        }
      ]
    },
    {
      "cell_type": "markdown",
      "source": [
        "Standardization / Normalization"
      ],
      "metadata": {
        "id": "99HMmmnAtU6e"
      }
    },
    {
      "cell_type": "code",
      "source": [
        "from sklearn.preprocessing import StandardScaler\n",
        "scaled_features = StandardScaler().fit_transform(X)\n",
        "scaled_features = pd.DataFrame(data=scaled_features)\n",
        "scaled_features.columns= X.columns"
      ],
      "metadata": {
        "id": "2w2lWOQ9tWbT"
      },
      "execution_count": null,
      "outputs": []
    },
    {
      "cell_type": "code",
      "source": [
        "# Let's see how the data looks after scaling\n",
        "scaled_features.head()"
      ],
      "metadata": {
        "colab": {
          "base_uri": "https://localhost:8080/",
          "height": 317
        },
        "id": "GeSboEECtb99",
        "outputId": "be146363-d370-44ac-843e-a32b0f4a08a5"
      },
      "execution_count": null,
      "outputs": [
        {
          "output_type": "execute_result",
          "data": {
            "text/plain": [
              "   tenure_rgu    n_days  vlr_attached_p3d   rld_30d   rld_60d   rld_90d  \\\n",
              "0    0.559991  0.770796               0.0 -1.946415 -1.798575  0.582236   \n",
              "1    1.309051  0.955083               0.0 -1.946415  0.555996  0.582236   \n",
              "2    0.304158 -0.849398               0.0  0.513765  0.555996 -1.717515   \n",
              "3   -0.175241  1.239193               0.0  0.513765  0.555996  0.582236   \n",
              "4    1.309051 -1.141187               0.0  0.513765 -1.798575 -1.717515   \n",
              "\n",
              "   tot_month_rld  active_pack  available_points_0  available_points_10  ...  \\\n",
              "0      -1.636621     0.530869           -0.081858            -0.015466  ...   \n",
              "1      -0.379480     0.530869           -0.081858            -0.015466  ...   \n",
              "2      -0.379480    -1.883740           -0.081858            -0.015466  ...   \n",
              "3       0.877661     0.530869           -0.081858            -0.015466  ...   \n",
              "4      -1.636621     0.530869           -0.081858            -0.015466  ...   \n",
              "\n",
              "   cust_flag_Healthy  cust_flag_Moderate  X_kategori_denom30d_banyak  \\\n",
              "0          -0.888674            0.888674                   -1.161316   \n",
              "1          -0.888674            0.888674                   -1.161316   \n",
              "2          -0.888674            0.888674                   -1.161316   \n",
              "3           1.125272           -1.125272                    0.861092   \n",
              "4          -0.888674            0.888674                    0.861092   \n",
              "\n",
              "   X_kategori_denom30d_sedikit  X_kategori_frek_dan_denom_jarang & banyak  \\\n",
              "0                     1.161316                                  -0.756713   \n",
              "1                     1.161316                                  -0.756713   \n",
              "2                     1.161316                                  -0.756713   \n",
              "3                    -0.861092                                  -0.756713   \n",
              "4                    -0.861092                                   1.321504   \n",
              "\n",
              "   X_kategori_frek_dan_denom_jarang & sedikit  \\\n",
              "0                                    1.501664   \n",
              "1                                    1.501664   \n",
              "2                                   -0.665928   \n",
              "3                                   -0.665928   \n",
              "4                                   -0.665928   \n",
              "\n",
              "   X_kategori_frek_dan_denom_sering & banyak  \\\n",
              "0                                  -0.515748   \n",
              "1                                  -0.515748   \n",
              "2                                  -0.515748   \n",
              "3                                   1.938933   \n",
              "4                                  -0.515748   \n",
              "\n",
              "   X_kategori_frek_dan_denom_sering & sedikit  X_kategori_tenure_baru  \\\n",
              "0                                   -0.366744                1.061791   \n",
              "1                                   -0.366744                1.061791   \n",
              "2                                    2.726695                1.061791   \n",
              "3                                   -0.366744               -0.941805   \n",
              "4                                   -0.366744                1.061791   \n",
              "\n",
              "   X_kategori_tenure_lama  \n",
              "0               -1.061791  \n",
              "1               -1.061791  \n",
              "2               -1.061791  \n",
              "3                0.941805  \n",
              "4               -1.061791  \n",
              "\n",
              "[5 rows x 37919 columns]"
            ],
            "text/html": [
              "\n",
              "  <div id=\"df-a040c5bc-fe7d-4498-8e6b-528f322048a5\">\n",
              "    <div class=\"colab-df-container\">\n",
              "      <div>\n",
              "<style scoped>\n",
              "    .dataframe tbody tr th:only-of-type {\n",
              "        vertical-align: middle;\n",
              "    }\n",
              "\n",
              "    .dataframe tbody tr th {\n",
              "        vertical-align: top;\n",
              "    }\n",
              "\n",
              "    .dataframe thead th {\n",
              "        text-align: right;\n",
              "    }\n",
              "</style>\n",
              "<table border=\"1\" class=\"dataframe\">\n",
              "  <thead>\n",
              "    <tr style=\"text-align: right;\">\n",
              "      <th></th>\n",
              "      <th>tenure_rgu</th>\n",
              "      <th>n_days</th>\n",
              "      <th>vlr_attached_p3d</th>\n",
              "      <th>rld_30d</th>\n",
              "      <th>rld_60d</th>\n",
              "      <th>rld_90d</th>\n",
              "      <th>tot_month_rld</th>\n",
              "      <th>active_pack</th>\n",
              "      <th>available_points_0</th>\n",
              "      <th>available_points_10</th>\n",
              "      <th>...</th>\n",
              "      <th>cust_flag_Healthy</th>\n",
              "      <th>cust_flag_Moderate</th>\n",
              "      <th>X_kategori_denom30d_banyak</th>\n",
              "      <th>X_kategori_denom30d_sedikit</th>\n",
              "      <th>X_kategori_frek_dan_denom_jarang &amp; banyak</th>\n",
              "      <th>X_kategori_frek_dan_denom_jarang &amp; sedikit</th>\n",
              "      <th>X_kategori_frek_dan_denom_sering &amp; banyak</th>\n",
              "      <th>X_kategori_frek_dan_denom_sering &amp; sedikit</th>\n",
              "      <th>X_kategori_tenure_baru</th>\n",
              "      <th>X_kategori_tenure_lama</th>\n",
              "    </tr>\n",
              "  </thead>\n",
              "  <tbody>\n",
              "    <tr>\n",
              "      <th>0</th>\n",
              "      <td>0.559991</td>\n",
              "      <td>0.770796</td>\n",
              "      <td>0.0</td>\n",
              "      <td>-1.946415</td>\n",
              "      <td>-1.798575</td>\n",
              "      <td>0.582236</td>\n",
              "      <td>-1.636621</td>\n",
              "      <td>0.530869</td>\n",
              "      <td>-0.081858</td>\n",
              "      <td>-0.015466</td>\n",
              "      <td>...</td>\n",
              "      <td>-0.888674</td>\n",
              "      <td>0.888674</td>\n",
              "      <td>-1.161316</td>\n",
              "      <td>1.161316</td>\n",
              "      <td>-0.756713</td>\n",
              "      <td>1.501664</td>\n",
              "      <td>-0.515748</td>\n",
              "      <td>-0.366744</td>\n",
              "      <td>1.061791</td>\n",
              "      <td>-1.061791</td>\n",
              "    </tr>\n",
              "    <tr>\n",
              "      <th>1</th>\n",
              "      <td>1.309051</td>\n",
              "      <td>0.955083</td>\n",
              "      <td>0.0</td>\n",
              "      <td>-1.946415</td>\n",
              "      <td>0.555996</td>\n",
              "      <td>0.582236</td>\n",
              "      <td>-0.379480</td>\n",
              "      <td>0.530869</td>\n",
              "      <td>-0.081858</td>\n",
              "      <td>-0.015466</td>\n",
              "      <td>...</td>\n",
              "      <td>-0.888674</td>\n",
              "      <td>0.888674</td>\n",
              "      <td>-1.161316</td>\n",
              "      <td>1.161316</td>\n",
              "      <td>-0.756713</td>\n",
              "      <td>1.501664</td>\n",
              "      <td>-0.515748</td>\n",
              "      <td>-0.366744</td>\n",
              "      <td>1.061791</td>\n",
              "      <td>-1.061791</td>\n",
              "    </tr>\n",
              "    <tr>\n",
              "      <th>2</th>\n",
              "      <td>0.304158</td>\n",
              "      <td>-0.849398</td>\n",
              "      <td>0.0</td>\n",
              "      <td>0.513765</td>\n",
              "      <td>0.555996</td>\n",
              "      <td>-1.717515</td>\n",
              "      <td>-0.379480</td>\n",
              "      <td>-1.883740</td>\n",
              "      <td>-0.081858</td>\n",
              "      <td>-0.015466</td>\n",
              "      <td>...</td>\n",
              "      <td>-0.888674</td>\n",
              "      <td>0.888674</td>\n",
              "      <td>-1.161316</td>\n",
              "      <td>1.161316</td>\n",
              "      <td>-0.756713</td>\n",
              "      <td>-0.665928</td>\n",
              "      <td>-0.515748</td>\n",
              "      <td>2.726695</td>\n",
              "      <td>1.061791</td>\n",
              "      <td>-1.061791</td>\n",
              "    </tr>\n",
              "    <tr>\n",
              "      <th>3</th>\n",
              "      <td>-0.175241</td>\n",
              "      <td>1.239193</td>\n",
              "      <td>0.0</td>\n",
              "      <td>0.513765</td>\n",
              "      <td>0.555996</td>\n",
              "      <td>0.582236</td>\n",
              "      <td>0.877661</td>\n",
              "      <td>0.530869</td>\n",
              "      <td>-0.081858</td>\n",
              "      <td>-0.015466</td>\n",
              "      <td>...</td>\n",
              "      <td>1.125272</td>\n",
              "      <td>-1.125272</td>\n",
              "      <td>0.861092</td>\n",
              "      <td>-0.861092</td>\n",
              "      <td>-0.756713</td>\n",
              "      <td>-0.665928</td>\n",
              "      <td>1.938933</td>\n",
              "      <td>-0.366744</td>\n",
              "      <td>-0.941805</td>\n",
              "      <td>0.941805</td>\n",
              "    </tr>\n",
              "    <tr>\n",
              "      <th>4</th>\n",
              "      <td>1.309051</td>\n",
              "      <td>-1.141187</td>\n",
              "      <td>0.0</td>\n",
              "      <td>0.513765</td>\n",
              "      <td>-1.798575</td>\n",
              "      <td>-1.717515</td>\n",
              "      <td>-1.636621</td>\n",
              "      <td>0.530869</td>\n",
              "      <td>-0.081858</td>\n",
              "      <td>-0.015466</td>\n",
              "      <td>...</td>\n",
              "      <td>-0.888674</td>\n",
              "      <td>0.888674</td>\n",
              "      <td>0.861092</td>\n",
              "      <td>-0.861092</td>\n",
              "      <td>1.321504</td>\n",
              "      <td>-0.665928</td>\n",
              "      <td>-0.515748</td>\n",
              "      <td>-0.366744</td>\n",
              "      <td>1.061791</td>\n",
              "      <td>-1.061791</td>\n",
              "    </tr>\n",
              "  </tbody>\n",
              "</table>\n",
              "<p>5 rows × 37919 columns</p>\n",
              "</div>\n",
              "      <button class=\"colab-df-convert\" onclick=\"convertToInteractive('df-a040c5bc-fe7d-4498-8e6b-528f322048a5')\"\n",
              "              title=\"Convert this dataframe to an interactive table.\"\n",
              "              style=\"display:none;\">\n",
              "        \n",
              "  <svg xmlns=\"http://www.w3.org/2000/svg\" height=\"24px\"viewBox=\"0 0 24 24\"\n",
              "       width=\"24px\">\n",
              "    <path d=\"M0 0h24v24H0V0z\" fill=\"none\"/>\n",
              "    <path d=\"M18.56 5.44l.94 2.06.94-2.06 2.06-.94-2.06-.94-.94-2.06-.94 2.06-2.06.94zm-11 1L8.5 8.5l.94-2.06 2.06-.94-2.06-.94L8.5 2.5l-.94 2.06-2.06.94zm10 10l.94 2.06.94-2.06 2.06-.94-2.06-.94-.94-2.06-.94 2.06-2.06.94z\"/><path d=\"M17.41 7.96l-1.37-1.37c-.4-.4-.92-.59-1.43-.59-.52 0-1.04.2-1.43.59L10.3 9.45l-7.72 7.72c-.78.78-.78 2.05 0 2.83L4 21.41c.39.39.9.59 1.41.59.51 0 1.02-.2 1.41-.59l7.78-7.78 2.81-2.81c.8-.78.8-2.07 0-2.86zM5.41 20L4 18.59l7.72-7.72 1.47 1.35L5.41 20z\"/>\n",
              "  </svg>\n",
              "      </button>\n",
              "      \n",
              "  <style>\n",
              "    .colab-df-container {\n",
              "      display:flex;\n",
              "      flex-wrap:wrap;\n",
              "      gap: 12px;\n",
              "    }\n",
              "\n",
              "    .colab-df-convert {\n",
              "      background-color: #E8F0FE;\n",
              "      border: none;\n",
              "      border-radius: 50%;\n",
              "      cursor: pointer;\n",
              "      display: none;\n",
              "      fill: #1967D2;\n",
              "      height: 32px;\n",
              "      padding: 0 0 0 0;\n",
              "      width: 32px;\n",
              "    }\n",
              "\n",
              "    .colab-df-convert:hover {\n",
              "      background-color: #E2EBFA;\n",
              "      box-shadow: 0px 1px 2px rgba(60, 64, 67, 0.3), 0px 1px 3px 1px rgba(60, 64, 67, 0.15);\n",
              "      fill: #174EA6;\n",
              "    }\n",
              "\n",
              "    [theme=dark] .colab-df-convert {\n",
              "      background-color: #3B4455;\n",
              "      fill: #D2E3FC;\n",
              "    }\n",
              "\n",
              "    [theme=dark] .colab-df-convert:hover {\n",
              "      background-color: #434B5C;\n",
              "      box-shadow: 0px 1px 3px 1px rgba(0, 0, 0, 0.15);\n",
              "      filter: drop-shadow(0px 1px 2px rgba(0, 0, 0, 0.3));\n",
              "      fill: #FFFFFF;\n",
              "    }\n",
              "  </style>\n",
              "\n",
              "      <script>\n",
              "        const buttonEl =\n",
              "          document.querySelector('#df-a040c5bc-fe7d-4498-8e6b-528f322048a5 button.colab-df-convert');\n",
              "        buttonEl.style.display =\n",
              "          google.colab.kernel.accessAllowed ? 'block' : 'none';\n",
              "\n",
              "        async function convertToInteractive(key) {\n",
              "          const element = document.querySelector('#df-a040c5bc-fe7d-4498-8e6b-528f322048a5');\n",
              "          const dataTable =\n",
              "            await google.colab.kernel.invokeFunction('convertToInteractive',\n",
              "                                                     [key], {});\n",
              "          if (!dataTable) return;\n",
              "\n",
              "          const docLinkHtml = 'Like what you see? Visit the ' +\n",
              "            '<a target=\"_blank\" href=https://colab.research.google.com/notebooks/data_table.ipynb>data table notebook</a>'\n",
              "            + ' to learn more about interactive tables.';\n",
              "          element.innerHTML = '';\n",
              "          dataTable['output_type'] = 'display_data';\n",
              "          await google.colab.output.renderOutput(dataTable, element);\n",
              "          const docLink = document.createElement('div');\n",
              "          docLink.innerHTML = docLinkHtml;\n",
              "          element.appendChild(docLink);\n",
              "        }\n",
              "      </script>\n",
              "    </div>\n",
              "  </div>\n",
              "  "
            ]
          },
          "metadata": {},
          "execution_count": 16
        }
      ]
    },
    {
      "cell_type": "code",
      "source": [
        "# Splitting the data\n",
        "from sklearn.model_selection import train_test_split\n",
        "X_train, X_test, Y_train, Y_test = train_test_split(X, Y, test_size = 0.3, random_state = 42)"
      ],
      "metadata": {
        "id": "gmjElT6QuJaU"
      },
      "execution_count": null,
      "outputs": []
    },
    {
      "cell_type": "markdown",
      "source": [
        "**Resampling Techniques - Oversample Minority Clas**"
      ],
      "metadata": {
        "id": "NToil9Oyu-pE"
      }
    },
    {
      "cell_type": "code",
      "source": [
        "# 'resample' is located under sklearn.utils\n",
        "from sklearn.utils import resample"
      ],
      "metadata": {
        "id": "cn6vZz0Xu4Wz"
      },
      "execution_count": null,
      "outputs": []
    },
    {
      "cell_type": "code",
      "source": [
        "# concatenate training data back together\n",
        "train_data = pd.concat([X_train, Y_train], axis = 1)"
      ],
      "metadata": {
        "id": "88XPRu4YvJyw"
      },
      "execution_count": null,
      "outputs": []
    },
    {
      "cell_type": "code",
      "source": [
        "# separate minority and majority class\n",
        "not_reload = train_data[train_data.rld_nm==0]\n",
        "reload = train_data[train_data.rld_nm==1]"
      ],
      "metadata": {
        "id": "PHtmq0KqvN1T"
      },
      "execution_count": null,
      "outputs": []
    },
    {
      "cell_type": "code",
      "source": [
        "# Unsample minority; we are oversampling the minority class to match the number of majority classs\n",
        "reload_upsampled = resample(reload,\n",
        "                           replace = True, # Sample with replacement\n",
        "                           n_samples = len(not_reload), # Match number in majority class\n",
        "                           random_state=27)"
      ],
      "metadata": {
        "id": "ktKQB4l1vO6T"
      },
      "execution_count": null,
      "outputs": []
    },
    {
      "cell_type": "code",
      "source": [
        "# combine majority and upsampled minority\n",
        "upsampled = pd.concat([not_reload, reload_upsampled])"
      ],
      "metadata": {
        "id": "KBT04gMSvlx_"
      },
      "execution_count": null,
      "outputs": []
    },
    {
      "cell_type": "code",
      "source": [
        "# Now let's check the classes count\n",
        "upsampled.rld_nm.value_counts()"
      ],
      "metadata": {
        "colab": {
          "base_uri": "https://localhost:8080/"
        },
        "id": "gf9NYAlZvo_r",
        "outputId": "81bb3278-9bf5-439a-96fa-c811560f7eba"
      },
      "execution_count": null,
      "outputs": [
        {
          "output_type": "execute_result",
          "data": {
            "text/plain": [
              "0    22753\n",
              "1    22753\n",
              "Name: rld_nm, dtype: int64"
            ]
          },
          "metadata": {},
          "execution_count": 24
        }
      ]
    },
    {
      "cell_type": "markdown",
      "source": [
        "**Resampling Techniques - Undersample Majority Class**"
      ],
      "metadata": {
        "id": "zih1JI__vurd"
      }
    },
    {
      "cell_type": "code",
      "source": [
        "# downsample majority\n",
        "not_reload_downsampled = resample(not_reload,\n",
        "                                replace = False, # sample without replacement\n",
        "                                n_samples = len(reload), # match minority n\n",
        "                                random_state = 27)"
      ],
      "metadata": {
        "id": "fG4lTj4Xv-xE"
      },
      "execution_count": null,
      "outputs": []
    },
    {
      "cell_type": "code",
      "source": [
        "# combine minority and downsampled majority\n",
        "downsampled = pd.concat([not_reload_downsampled, reload]) "
      ],
      "metadata": {
        "id": "qOeaGOzAwJWg"
      },
      "execution_count": null,
      "outputs": []
    },
    {
      "cell_type": "code",
      "source": [
        "# let's check the classes counts\n",
        "downsampled.rld_nm.value_counts()"
      ],
      "metadata": {
        "colab": {
          "base_uri": "https://localhost:8080/"
        },
        "id": "sdPAPgNtwMW9",
        "outputId": "5453970a-7860-41e9-fbbc-8937e7bb6d42"
      },
      "execution_count": null,
      "outputs": [
        {
          "output_type": "execute_result",
          "data": {
            "text/plain": [
              "0    12372\n",
              "1    12372\n",
              "Name: rld_nm, dtype: int64"
            ]
          },
          "metadata": {},
          "execution_count": 27
        }
      ]
    },
    {
      "cell_type": "markdown",
      "source": [
        "**Generate Synthetic Samples**"
      ],
      "metadata": {
        "id": "MwSBqvsGwrmV"
      }
    },
    {
      "cell_type": "code",
      "source": [
        "# import SMOTE \n",
        "from imblearn.over_sampling import SMOTE\n",
        "\n",
        "sm = SMOTE(random_state = 25, sampling_strategy = 1.0)"
      ],
      "metadata": {
        "id": "tf98Acc4wwU6"
      },
      "execution_count": null,
      "outputs": []
    },
    {
      "cell_type": "code",
      "source": [
        "# fit the sampling\n",
        "oversample = SMOTE()\n",
        "X_train, Y_train = oversample.fit_resample(X_train, Y_train)"
      ],
      "metadata": {
        "id": "esxk_YrCw2k2"
      },
      "execution_count": null,
      "outputs": []
    },
    {
      "cell_type": "code",
      "source": [
        "np.unique(Y_train, return_counts=True)"
      ],
      "metadata": {
        "colab": {
          "base_uri": "https://localhost:8080/"
        },
        "id": "ys0MpWmmxcA1",
        "outputId": "f9336dbe-b2f8-42f8-8438-52b8df80fff8"
      },
      "execution_count": null,
      "outputs": [
        {
          "output_type": "execute_result",
          "data": {
            "text/plain": [
              "(array([0, 1]), array([22753, 12372]))"
            ]
          },
          "metadata": {},
          "execution_count": 29
        }
      ]
    }
  ]
}